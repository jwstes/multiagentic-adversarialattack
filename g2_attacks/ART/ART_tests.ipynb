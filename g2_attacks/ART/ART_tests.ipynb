{
 "cells": [
  {
   "cell_type": "code",
   "execution_count": 3,
   "id": "7b453c42-8dea-4726-bd4c-738522f96a4b",
   "metadata": {},
   "outputs": [],
   "source": [
    "import cv2\n",
    "import numpy as np\n",
    "from PIL import Image\n",
    "import os\n",
    "import inspect\n",
    "from skimage.metrics import structural_similarity as ssim\n",
    "from pathlib import Path\n",
    "from utils._common import _to_uint8_rgb\n",
    "from utils import modelLoader"
   ]
  },
  {
   "cell_type": "markdown",
   "id": "88b6dc4e-7aef-4924-ac1a-c54eb4560a32",
   "metadata": {},
   "source": [
    "# Table of Contents\n",
    "\n",
    "* [NewtonFool](#NewtonFool)\n",
    "* [Projected Gradient Descent](#Projected-Gradient-Descent)\n",
    "* [Basic Iterative Method](#Basic-Iterative-Method)\n",
    "* [Hop Skip Jump Attack](#Hop-Skip-Jump-Attack)\n",
    "* [Geometric Decision Based Attack](#Geometric-Decision-Based-Attack)\n",
    "* [GRAPHITE Whitebox](#GRAPHITE-Whitebox)\n",
    "* [Fast Gradient Method](#Fast-Gradient-Method)"
   ]
  },
  {
   "cell_type": "markdown",
   "id": "73d88fda-2f77-44a6-974b-7951377dd9f7",
   "metadata": {},
   "source": [
    "# NewtonFool"
   ]
  },
  {
   "cell_type": "code",
   "execution_count": 2,
   "id": "fffc0a79-e454-48c7-b06e-6d8dfe5a2f97",
   "metadata": {},
   "outputs": [
    {
     "name": "stdout",
     "output_type": "stream",
     "text": [
      "Found 2 images\n",
      "[MODEL] Loading 'resnet50' weights from utils/.models/resnet50.pth ...\n",
      "[MODEL] 'resnet50' ready on cuda:0\n",
      "Processing: ../to_attack/img_0337.png\n"
     ]
    },
    {
     "data": {
      "application/vnd.jupyter.widget-view+json": {
       "model_id": "9ecfc57a1a984bc88001761298f0e5eb",
       "version_major": 2,
       "version_minor": 0
      },
      "text/plain": [
       "NewtonFool:   0%|          | 0/1 [00:00<?, ?it/s]"
      ]
     },
     "metadata": {},
     "output_type": "display_data"
    },
    {
     "name": "stdout",
     "output_type": "stream",
     "text": [
      "SSIM between original and adversarial: 0.999997\n",
      "Saved adversarial image: ../adv_images/img_0337.png\n",
      " \n",
      "Processing: ../to_attack/img_0667.png\n"
     ]
    },
    {
     "data": {
      "application/vnd.jupyter.widget-view+json": {
       "model_id": "0d35c12b12bb490d83b04d3bcf4844e2",
       "version_major": 2,
       "version_minor": 0
      },
      "text/plain": [
       "NewtonFool:   0%|          | 0/1 [00:00<?, ?it/s]"
      ]
     },
     "metadata": {},
     "output_type": "display_data"
    },
    {
     "name": "stdout",
     "output_type": "stream",
     "text": [
      "SSIM between original and adversarial: 1.000000\n",
      "Saved adversarial image: ../adv_images/img_0667.png\n",
      " \n",
      "\n",
      "Average SSIM Score: 0.9999984560913506\n",
      "Successful Attacks: 2\n"
     ]
    }
   ],
   "source": [
    "from NewtonFool_attack import NewtonFool_attack\n",
    "\n",
    "folder = Path(\"../to_attack\")\n",
    "image_exts = {\".png\", \".jpg\", \".jpeg\", \".bmp\", \".tif\", \".tiff\", \".webp\"}\n",
    "image_paths = sorted(\n",
    "    str(p) for p in folder.iterdir()\n",
    "    if p.is_file() and p.suffix.lower() in image_exts\n",
    ")\n",
    "print(f\"Found {len(image_paths)} images\")\n",
    "\n",
    "resnet50_Model = modelLoader.loadModel(\"resnet50\", \"utils/.models/resnet50.pth\")\n",
    "# densenet121_Model = modelLoader.loadModel(\"densenet121\", \".models/densenet121.pth\")\n",
    "\n",
    "allSSIMScores = []\n",
    "successfulAttacks = 0\n",
    "\n",
    "# ==== configure output folder ====\n",
    "adv_output_dir = Path(\"../adv_images\")\n",
    "adv_output_dir.mkdir(parents=True, exist_ok=True)\n",
    "\n",
    "'''\n",
    "def _finalize(orig_uint8: np.ndarray, x_adv01: np.ndarray) -> tuple:\n",
    "    adv_uint8 = _to_uint8_rgb(x_adv01[0])  # (H_adv, W_adv, 3)\n",
    "\n",
    "    # Resize original to match adv size if needed\n",
    "    H_adv, W_adv = adv_uint8.shape[:2]\n",
    "    if orig_uint8.shape[:2] != (H_adv, W_adv):\n",
    "        import cv2\n",
    "        orig_match = cv2.resize(orig_uint8, (W_adv, H_adv), interpolation=cv2.INTER_LINEAR)\n",
    "    else:\n",
    "        orig_match = orig_uint8\n",
    "\n",
    "    noise = adv_uint8.astype(np.int16) - orig_match.astype(np.int16)\n",
    "    return orig_match, noise, adv_uint8\n",
    "'''\n",
    "\n",
    "for p in image_paths:\n",
    "    print(\"Processing:\", p)\n",
    "    try:\n",
    "        ##################################### ATTACK METHOD ########################################\n",
    "        \n",
    "        orig_u8, adv = NewtonFool_attack(resnet50_Model, p)\n",
    "\n",
    "        ############################################################################################\n",
    "\n",
    "        adv = np.transpose(adv, (1, 2, 0))\n",
    "        _adv = adv\n",
    "        #print(orig_u8.shape)\n",
    "        #print(adv.shape)\n",
    "        if orig_u8.shape[:2] != adv.shape[:2]:\n",
    "            _adv = cv2.resize(\n",
    "                adv, (orig_u8.shape[1], orig_u8.shape[0]),\n",
    "                interpolation=cv2.INTER_LINEAR\n",
    "            )\n",
    "        adv_u8 = _to_uint8_rgb(_adv)\n",
    "        noise = adv_u8.astype(np.int16) - orig_u8.astype(np.int16)\n",
    "    \n",
    "        # Save adversarial image to output folder\n",
    "        out_path = adv_output_dir / Path(p).name\n",
    "        cv2.imwrite(str(out_path), cv2.cvtColor(adv_u8, cv2.COLOR_RGB2BGR))\n",
    "    \n",
    "        # Compute SSIM\n",
    "        ssim_kwargs = {\"data_range\": 255}\n",
    "        if \"channel_axis\" in inspect.signature(ssim).parameters:\n",
    "            ssim_kwargs[\"channel_axis\"] = -1\n",
    "        else:\n",
    "            ssim_kwargs[\"multichannel\"] = True\n",
    "    \n",
    "        #print(ssim_kwargs)\n",
    "        ssim_score = ssim(orig_u8, adv_u8, **ssim_kwargs)\n",
    "        allSSIMScores.append(ssim_score)\n",
    "        print(f\"SSIM between original and adversarial: {ssim_score:.6f}\")\n",
    "        print(f\"Saved adversarial image: {out_path}\")\n",
    "        print(\" \")\n",
    "        successfulAttacks += 1\n",
    "        \n",
    "    except Exception as e:\n",
    "        print(\"Error processing:\", p)\n",
    "        print(e)\n",
    "        continue\n",
    "\n",
    "\n",
    "print(\"\")\n",
    "print(\"Average SSIM Score:\", np.mean(allSSIMScores))\n",
    "print(\"Successful Attacks:\", successfulAttacks)"
   ]
  },
  {
   "cell_type": "markdown",
   "id": "538f9438-658f-4fe4-85f8-203365297d68",
   "metadata": {},
   "source": [
    "# Projected Gradient Descent"
   ]
  },
  {
   "cell_type": "code",
   "execution_count": 2,
   "id": "e18b0b80-d91f-44f1-b718-b9a85b9a3822",
   "metadata": {},
   "outputs": [
    {
     "name": "stdout",
     "output_type": "stream",
     "text": [
      "Found 2 images\n",
      "[MODEL] Loading 'resnet50' weights from utils/.models/resnet50.pth ...\n",
      "[MODEL] 'resnet50' ready on cuda:0\n",
      "Processing: ../to_attack/img_0337.png\n"
     ]
    },
    {
     "data": {
      "application/vnd.jupyter.widget-view+json": {
       "model_id": "164d07111189418e922f406a34e6c904",
       "version_major": 2,
       "version_minor": 0
      },
      "text/plain": [
       "PGD - Batches:   0%|          | 0/1 [00:00<?, ?it/s]"
      ]
     },
     "metadata": {},
     "output_type": "display_data"
    },
    {
     "name": "stdout",
     "output_type": "stream",
     "text": [
      "SSIM between original and adversarial: 0.125584\n",
      "Saved adversarial image: ../adv_images/img_0337.png\n",
      " \n",
      "Processing: ../to_attack/img_0667.png\n"
     ]
    },
    {
     "data": {
      "application/vnd.jupyter.widget-view+json": {
       "model_id": "438f955f2aec4680a38836afe8aa2483",
       "version_major": 2,
       "version_minor": 0
      },
      "text/plain": [
       "PGD - Batches:   0%|          | 0/1 [00:00<?, ?it/s]"
      ]
     },
     "metadata": {},
     "output_type": "display_data"
    },
    {
     "name": "stdout",
     "output_type": "stream",
     "text": [
      "SSIM between original and adversarial: 0.146463\n",
      "Saved adversarial image: ../adv_images/img_0667.png\n",
      " \n",
      "\n",
      "Average SSIM Score: 0.13602344228343324\n",
      "Successful Attacks: 2\n"
     ]
    }
   ],
   "source": [
    "from PGD_attack import PGD_attack\n",
    "\n",
    "folder = Path(\"../to_attack\")\n",
    "image_exts = {\".png\", \".jpg\", \".jpeg\", \".bmp\", \".tif\", \".tiff\", \".webp\"}\n",
    "image_paths = sorted(\n",
    "    str(p) for p in folder.iterdir()\n",
    "    if p.is_file() and p.suffix.lower() in image_exts\n",
    ")\n",
    "print(f\"Found {len(image_paths)} images\")\n",
    "\n",
    "resnet50_Model = modelLoader.loadModel(\"resnet50\", \"utils/.models/resnet50.pth\")\n",
    "# densenet121_Model = modelLoader.loadModel(\"densenet121\", \".models/densenet121.pth\")\n",
    "\n",
    "allSSIMScores = []\n",
    "successfulAttacks = 0\n",
    "\n",
    "# ==== configure output folder ====\n",
    "adv_output_dir = Path(\"../adv_images\")\n",
    "adv_output_dir.mkdir(parents=True, exist_ok=True)\n",
    "\n",
    "'''\n",
    "def _finalize(orig_uint8: np.ndarray, x_adv01: np.ndarray) -> tuple:\n",
    "    adv_uint8 = _to_uint8_rgb(x_adv01[0])  # (H_adv, W_adv, 3)\n",
    "\n",
    "    # Resize original to match adv size if needed\n",
    "    H_adv, W_adv = adv_uint8.shape[:2]\n",
    "    if orig_uint8.shape[:2] != (H_adv, W_adv):\n",
    "        import cv2\n",
    "        orig_match = cv2.resize(orig_uint8, (W_adv, H_adv), interpolation=cv2.INTER_LINEAR)\n",
    "    else:\n",
    "        orig_match = orig_uint8\n",
    "\n",
    "    noise = adv_uint8.astype(np.int16) - orig_match.astype(np.int16)\n",
    "    return orig_match, noise, adv_uint8\n",
    "'''\n",
    "\n",
    "for p in image_paths:\n",
    "    print(\"Processing:\", p)\n",
    "    try:\n",
    "        ##################################### ATTACK METHOD ########################################\n",
    "        \n",
    "        orig_u8, adv = PGD_attack(resnet50_Model, p)\n",
    "\n",
    "        ############################################################################################\n",
    "\n",
    "        adv = np.transpose(adv, (1, 2, 0))\n",
    "        _adv = adv\n",
    "        #print(orig_u8.shape)\n",
    "        #print(adv.shape)\n",
    "        if orig_u8.shape[:2] != adv.shape[:2]:\n",
    "            _adv = cv2.resize(\n",
    "                adv, (orig_u8.shape[1], orig_u8.shape[0]),\n",
    "                interpolation=cv2.INTER_LINEAR\n",
    "            )\n",
    "        adv_u8 = _to_uint8_rgb(_adv)\n",
    "        noise = adv_u8.astype(np.int16) - orig_u8.astype(np.int16)\n",
    "    \n",
    "        # Save adversarial image to output folder\n",
    "        out_path = adv_output_dir / Path(p).name\n",
    "        cv2.imwrite(str(out_path), cv2.cvtColor(adv_u8, cv2.COLOR_RGB2BGR))\n",
    "    \n",
    "        # Compute SSIM\n",
    "        ssim_kwargs = {\"data_range\": 255}\n",
    "        if \"channel_axis\" in inspect.signature(ssim).parameters:\n",
    "            ssim_kwargs[\"channel_axis\"] = -1\n",
    "        else:\n",
    "            ssim_kwargs[\"multichannel\"] = True\n",
    "    \n",
    "        #print(ssim_kwargs)\n",
    "        ssim_score = ssim(orig_u8, adv_u8, **ssim_kwargs)\n",
    "        allSSIMScores.append(ssim_score)\n",
    "        print(f\"SSIM between original and adversarial: {ssim_score:.6f}\")\n",
    "        print(f\"Saved adversarial image: {out_path}\")\n",
    "        print(\" \")\n",
    "        successfulAttacks += 1\n",
    "        \n",
    "    except Exception as e:\n",
    "        print(\"Error processing:\", p)\n",
    "        print(e)\n",
    "        continue\n",
    "\n",
    "\n",
    "print(\"\")\n",
    "print(\"Average SSIM Score:\", np.mean(allSSIMScores))\n",
    "print(\"Successful Attacks:\", successfulAttacks)"
   ]
  },
  {
   "cell_type": "markdown",
   "id": "24e31cbd-681f-42e4-b696-9acda1d824b9",
   "metadata": {},
   "source": [
    "# Basic Iterative Method"
   ]
  },
  {
   "cell_type": "code",
   "execution_count": 3,
   "id": "5a913740-b5a9-4191-aad9-8503da8ed8f8",
   "metadata": {},
   "outputs": [
    {
     "name": "stdout",
     "output_type": "stream",
     "text": [
      "Found 2 images\n",
      "[MODEL] Loading 'resnet50' weights from utils/.models/resnet50.pth ...\n",
      "[MODEL] 'resnet50' ready on cuda:0\n",
      "Processing: ../to_attack/img_0337.png\n"
     ]
    },
    {
     "data": {
      "application/vnd.jupyter.widget-view+json": {
       "model_id": "91c239425d834f718bbbea5574424759",
       "version_major": 2,
       "version_minor": 0
      },
      "text/plain": [
       "PGD - Batches:   0%|          | 0/1 [00:00<?, ?it/s]"
      ]
     },
     "metadata": {},
     "output_type": "display_data"
    },
    {
     "name": "stdout",
     "output_type": "stream",
     "text": [
      "SSIM between original and adversarial: 0.125584\n",
      "Saved adversarial image: ../adv_images/img_0337.png\n",
      " \n",
      "Processing: ../to_attack/img_0667.png\n"
     ]
    },
    {
     "data": {
      "application/vnd.jupyter.widget-view+json": {
       "model_id": "2a1b43c73a614340a499bb0c69920398",
       "version_major": 2,
       "version_minor": 0
      },
      "text/plain": [
       "PGD - Batches:   0%|          | 0/1 [00:00<?, ?it/s]"
      ]
     },
     "metadata": {},
     "output_type": "display_data"
    },
    {
     "name": "stdout",
     "output_type": "stream",
     "text": [
      "SSIM between original and adversarial: 0.146463\n",
      "Saved adversarial image: ../adv_images/img_0667.png\n",
      " \n",
      "\n",
      "Average SSIM Score: 0.13602344228343324\n",
      "Successful Attacks: 2\n"
     ]
    }
   ],
   "source": [
    "from BIM_attack import BIM_attack\n",
    "\n",
    "folder = Path(\"../to_attack\")\n",
    "image_exts = {\".png\", \".jpg\", \".jpeg\", \".bmp\", \".tif\", \".tiff\", \".webp\"}\n",
    "image_paths = sorted(\n",
    "    str(p) for p in folder.iterdir()\n",
    "    if p.is_file() and p.suffix.lower() in image_exts\n",
    ")\n",
    "print(f\"Found {len(image_paths)} images\")\n",
    "\n",
    "resnet50_Model = modelLoader.loadModel(\"resnet50\", \"utils/.models/resnet50.pth\")\n",
    "# densenet121_Model = modelLoader.loadModel(\"densenet121\", \".models/densenet121.pth\")\n",
    "\n",
    "allSSIMScores = []\n",
    "successfulAttacks = 0\n",
    "\n",
    "# ==== configure output folder ====\n",
    "adv_output_dir = Path(\"../adv_images\")\n",
    "adv_output_dir.mkdir(parents=True, exist_ok=True)\n",
    "\n",
    "'''\n",
    "def _finalize(orig_uint8: np.ndarray, x_adv01: np.ndarray) -> tuple:\n",
    "    adv_uint8 = _to_uint8_rgb(x_adv01[0])  # (H_adv, W_adv, 3)\n",
    "\n",
    "    # Resize original to match adv size if needed\n",
    "    H_adv, W_adv = adv_uint8.shape[:2]\n",
    "    if orig_uint8.shape[:2] != (H_adv, W_adv):\n",
    "        import cv2\n",
    "        orig_match = cv2.resize(orig_uint8, (W_adv, H_adv), interpolation=cv2.INTER_LINEAR)\n",
    "    else:\n",
    "        orig_match = orig_uint8\n",
    "\n",
    "    noise = adv_uint8.astype(np.int16) - orig_match.astype(np.int16)\n",
    "    return orig_match, noise, adv_uint8\n",
    "'''\n",
    "\n",
    "for p in image_paths:\n",
    "    print(\"Processing:\", p)\n",
    "    try:\n",
    "        ##################################### ATTACK METHOD ########################################\n",
    "        \n",
    "        orig_u8, adv = BIM_attack(resnet50_Model, p)\n",
    "\n",
    "        ############################################################################################\n",
    "\n",
    "        adv = np.transpose(adv, (1, 2, 0))\n",
    "        _adv = adv\n",
    "        #print(orig_u8.shape)\n",
    "        #print(adv.shape)\n",
    "        if orig_u8.shape[:2] != adv.shape[:2]:\n",
    "            _adv = cv2.resize(\n",
    "                adv, (orig_u8.shape[1], orig_u8.shape[0]),\n",
    "                interpolation=cv2.INTER_LINEAR\n",
    "            )\n",
    "        adv_u8 = _to_uint8_rgb(_adv)\n",
    "        noise = adv_u8.astype(np.int16) - orig_u8.astype(np.int16)\n",
    "    \n",
    "        # Save adversarial image to output folder\n",
    "        out_path = adv_output_dir / Path(p).name\n",
    "        cv2.imwrite(str(out_path), cv2.cvtColor(adv_u8, cv2.COLOR_RGB2BGR))\n",
    "    \n",
    "        # Compute SSIM\n",
    "        ssim_kwargs = {\"data_range\": 255}\n",
    "        if \"channel_axis\" in inspect.signature(ssim).parameters:\n",
    "            ssim_kwargs[\"channel_axis\"] = -1\n",
    "        else:\n",
    "            ssim_kwargs[\"multichannel\"] = True\n",
    "    \n",
    "        #print(ssim_kwargs)\n",
    "        ssim_score = ssim(orig_u8, adv_u8, **ssim_kwargs)\n",
    "        allSSIMScores.append(ssim_score)\n",
    "        print(f\"SSIM between original and adversarial: {ssim_score:.6f}\")\n",
    "        print(f\"Saved adversarial image: {out_path}\")\n",
    "        print(\" \")\n",
    "        successfulAttacks += 1\n",
    "        \n",
    "    except Exception as e:\n",
    "        print(\"Error processing:\", p)\n",
    "        print(e)\n",
    "        continue\n",
    "\n",
    "\n",
    "print(\"\")\n",
    "print(\"Average SSIM Score:\", np.mean(allSSIMScores))\n",
    "print(\"Successful Attacks:\", successfulAttacks)"
   ]
  },
  {
   "cell_type": "markdown",
   "id": "0ea0c532-eebe-476b-9e82-21d87155a6df",
   "metadata": {},
   "source": [
    "# Hop Skip Jump Attack"
   ]
  },
  {
   "cell_type": "code",
   "execution_count": 3,
   "id": "06ba80ad-b54b-45c2-800c-7c490a007ac9",
   "metadata": {},
   "outputs": [
    {
     "name": "stdout",
     "output_type": "stream",
     "text": [
      "Found 2 images\n",
      "[MODEL] Loading 'resnet50' weights from utils/.models/resnet50.pth ...\n",
      "[MODEL] 'resnet50' ready on cuda:0\n",
      "Processing: ../to_attack/img_0337.png\n"
     ]
    },
    {
     "data": {
      "application/vnd.jupyter.widget-view+json": {
       "model_id": "6bff2f0f88a1413caa0ff2f07e2f0a3a",
       "version_major": 2,
       "version_minor": 0
      },
      "text/plain": [
       "HopSkipJump:   0%|          | 0/1 [00:00<?, ?it/s]"
      ]
     },
     "metadata": {},
     "output_type": "display_data"
    },
    {
     "name": "stdout",
     "output_type": "stream",
     "text": [
      "SSIM between original and adversarial: 1.000000\n",
      "Saved adversarial image: ../adv_images/img_0337.png\n",
      " \n",
      "Processing: ../to_attack/img_0667.png\n"
     ]
    },
    {
     "data": {
      "application/vnd.jupyter.widget-view+json": {
       "model_id": "cedc4787888f4112940c5d38b9ae41c6",
       "version_major": 2,
       "version_minor": 0
      },
      "text/plain": [
       "HopSkipJump:   0%|          | 0/1 [00:00<?, ?it/s]"
      ]
     },
     "metadata": {},
     "output_type": "display_data"
    },
    {
     "name": "stdout",
     "output_type": "stream",
     "text": [
      "SSIM between original and adversarial: 0.999997\n",
      "Saved adversarial image: ../adv_images/img_0667.png\n",
      " \n",
      "\n",
      "Average SSIM Score: 0.9999985351031144\n",
      "Successful Attacks: 2\n"
     ]
    }
   ],
   "source": [
    "from HopSkipJump_attack import HopSkipJump_attack\n",
    "\n",
    "folder = Path(\"../to_attack\")\n",
    "image_exts = {\".png\", \".jpg\", \".jpeg\", \".bmp\", \".tif\", \".tiff\", \".webp\"}\n",
    "image_paths = sorted(\n",
    "    str(p) for p in folder.iterdir()\n",
    "    if p.is_file() and p.suffix.lower() in image_exts\n",
    ")\n",
    "print(f\"Found {len(image_paths)} images\")\n",
    "\n",
    "resnet50_Model = modelLoader.loadModel(\"resnet50\", \"utils/.models/resnet50.pth\")\n",
    "# densenet121_Model = modelLoader.loadModel(\"densenet121\", \".models/densenet121.pth\")\n",
    "\n",
    "allSSIMScores = []\n",
    "successfulAttacks = 0\n",
    "\n",
    "# ==== configure output folder ====\n",
    "adv_output_dir = Path(\"../adv_images\")\n",
    "adv_output_dir.mkdir(parents=True, exist_ok=True)\n",
    "\n",
    "'''\n",
    "def _finalize(orig_uint8: np.ndarray, x_adv01: np.ndarray) -> tuple:\n",
    "    adv_uint8 = _to_uint8_rgb(x_adv01[0])  # (H_adv, W_adv, 3)\n",
    "\n",
    "    # Resize original to match adv size if needed\n",
    "    H_adv, W_adv = adv_uint8.shape[:2]\n",
    "    if orig_uint8.shape[:2] != (H_adv, W_adv):\n",
    "        import cv2\n",
    "        orig_match = cv2.resize(orig_uint8, (W_adv, H_adv), interpolation=cv2.INTER_LINEAR)\n",
    "    else:\n",
    "        orig_match = orig_uint8\n",
    "\n",
    "    noise = adv_uint8.astype(np.int16) - orig_match.astype(np.int16)\n",
    "    return orig_match, noise, adv_uint8\n",
    "'''\n",
    "\n",
    "for p in image_paths:\n",
    "    print(\"Processing:\", p)\n",
    "    try:\n",
    "        ##################################### ATTACK METHOD ########################################\n",
    "        \n",
    "        orig_u8, adv = HopSkipJump_attack(resnet50_Model, p)\n",
    "\n",
    "        ############################################################################################\n",
    "\n",
    "        adv = np.transpose(adv, (1, 2, 0))\n",
    "        _adv = adv\n",
    "        #print(orig_u8.shape)\n",
    "        #print(adv.shape)\n",
    "        if orig_u8.shape[:2] != adv.shape[:2]:\n",
    "            _adv = cv2.resize(\n",
    "                adv, (orig_u8.shape[1], orig_u8.shape[0]),\n",
    "                interpolation=cv2.INTER_LINEAR\n",
    "            )\n",
    "        adv_u8 = _to_uint8_rgb(_adv)\n",
    "        noise = adv_u8.astype(np.int16) - orig_u8.astype(np.int16)\n",
    "    \n",
    "        # Save adversarial image to output folder\n",
    "        out_path = adv_output_dir / Path(p).name\n",
    "        cv2.imwrite(str(out_path), cv2.cvtColor(adv_u8, cv2.COLOR_RGB2BGR))\n",
    "    \n",
    "        # Compute SSIM\n",
    "        ssim_kwargs = {\"data_range\": 255}\n",
    "        if \"channel_axis\" in inspect.signature(ssim).parameters:\n",
    "            ssim_kwargs[\"channel_axis\"] = -1\n",
    "        else:\n",
    "            ssim_kwargs[\"multichannel\"] = True\n",
    "    \n",
    "        #print(ssim_kwargs)\n",
    "        ssim_score = ssim(orig_u8, adv_u8, **ssim_kwargs)\n",
    "        allSSIMScores.append(ssim_score)\n",
    "        print(f\"SSIM between original and adversarial: {ssim_score:.6f}\")\n",
    "        print(f\"Saved adversarial image: {out_path}\")\n",
    "        print(\" \")\n",
    "        successfulAttacks += 1\n",
    "        \n",
    "    except Exception as e:\n",
    "        print(\"Error processing:\", p)\n",
    "        print(e)\n",
    "        continue\n",
    "\n",
    "\n",
    "print(\"\")\n",
    "print(\"Average SSIM Score:\", np.mean(allSSIMScores))\n",
    "print(\"Successful Attacks:\", successfulAttacks)"
   ]
  },
  {
   "cell_type": "markdown",
   "id": "84c5b1ca-8185-4653-a704-8b6b762ac85f",
   "metadata": {},
   "source": [
    "# Geometric Decision Based Attack"
   ]
  },
  {
   "cell_type": "code",
   "execution_count": 2,
   "id": "26f170b0-7081-4dc8-9603-cb4609ae6e45",
   "metadata": {},
   "outputs": [
    {
     "name": "stdout",
     "output_type": "stream",
     "text": [
      "Found 2 images\n",
      "[MODEL] Loading 'resnet50' weights from utils/.models/resnet50.pth ...\n",
      "[MODEL] 'resnet50' ready on cuda:0\n",
      "Processing: ../to_attack/img_0337.png\n"
     ]
    },
    {
     "data": {
      "application/vnd.jupyter.widget-view+json": {
       "model_id": "3dca97c4b47a4fec90d1989828d55ec6",
       "version_major": 2,
       "version_minor": 0
      },
      "text/plain": [
       "GeoDA - samples:   0%|          | 0/1 [00:00<?, ?it/s]"
      ]
     },
     "metadata": {},
     "output_type": "display_data"
    },
    {
     "data": {
      "application/vnd.jupyter.widget-view+json": {
       "model_id": "6bece600332940b0bba4b580ab6a70f5",
       "version_major": 2,
       "version_minor": 0
      },
      "text/plain": [
       "GeoDA - steps:   0%|          | 0/9 [00:00<?, ?it/s]"
      ]
     },
     "metadata": {},
     "output_type": "display_data"
    },
    {
     "name": "stdout",
     "output_type": "stream",
     "text": [
      "(256, 256, 3)\n",
      "(256, 256, 3)\n",
      "SSIM between original and adversarial: 0.955711\n",
      "Saved adversarial image: ../adv_images/img_0337.png\n",
      " \n",
      "Processing: ../to_attack/img_0667.png\n"
     ]
    },
    {
     "data": {
      "application/vnd.jupyter.widget-view+json": {
       "model_id": "94bed3dc0bee449b909de347820a366c",
       "version_major": 2,
       "version_minor": 0
      },
      "text/plain": [
       "GeoDA - samples:   0%|          | 0/1 [00:00<?, ?it/s]"
      ]
     },
     "metadata": {},
     "output_type": "display_data"
    },
    {
     "data": {
      "application/vnd.jupyter.widget-view+json": {
       "model_id": "6114ad53959c4caea28bd0b9bd8d2145",
       "version_major": 2,
       "version_minor": 0
      },
      "text/plain": [
       "GeoDA - steps:   0%|          | 0/9 [00:00<?, ?it/s]"
      ]
     },
     "metadata": {},
     "output_type": "display_data"
    },
    {
     "name": "stdout",
     "output_type": "stream",
     "text": [
      "(256, 256, 3)\n",
      "(256, 256, 3)\n",
      "SSIM between original and adversarial: 0.082951\n",
      "Saved adversarial image: ../adv_images/img_0667.png\n",
      " \n",
      "\n",
      "Average SSIM Score: 0.5193308685643822\n",
      "Successful Attacks: 2\n"
     ]
    }
   ],
   "source": [
    "from GeoD_attack import GeoD_attack\n",
    "\n",
    "folder = Path(\"../to_attack\")\n",
    "image_exts = {\".png\", \".jpg\", \".jpeg\", \".bmp\", \".tif\", \".tiff\", \".webp\"}\n",
    "image_paths = sorted(\n",
    "    str(p) for p in folder.iterdir()\n",
    "    if p.is_file() and p.suffix.lower() in image_exts\n",
    ")\n",
    "print(f\"Found {len(image_paths)} images\")\n",
    "\n",
    "resnet50_Model = modelLoader.loadModel(\"resnet50\", \"utils/.models/resnet50.pth\")\n",
    "# densenet121_Model = modelLoader.loadModel(\"densenet121\", \".models/densenet121.pth\")\n",
    "\n",
    "allSSIMScores = []\n",
    "successfulAttacks = 0\n",
    "\n",
    "# ==== configure output folder ====\n",
    "adv_output_dir = Path(\"../adv_images\")\n",
    "adv_output_dir.mkdir(parents=True, exist_ok=True)\n",
    "\n",
    "'''\n",
    "def _finalize(orig_uint8: np.ndarray, x_adv01: np.ndarray) -> tuple:\n",
    "    adv_uint8 = _to_uint8_rgb(x_adv01[0])  # (H_adv, W_adv, 3)\n",
    "\n",
    "    # Resize original to match adv size if needed\n",
    "    H_adv, W_adv = adv_uint8.shape[:2]\n",
    "    if orig_uint8.shape[:2] != (H_adv, W_adv):\n",
    "        import cv2\n",
    "        orig_match = cv2.resize(orig_uint8, (W_adv, H_adv), interpolation=cv2.INTER_LINEAR)\n",
    "    else:\n",
    "        orig_match = orig_uint8\n",
    "\n",
    "    noise = adv_uint8.astype(np.int16) - orig_match.astype(np.int16)\n",
    "    return orig_match, noise, adv_uint8\n",
    "'''\n",
    "\n",
    "for p in image_paths:\n",
    "    print(\"Processing:\", p)\n",
    "    try:\n",
    "        ##################################### ATTACK METHOD ########################################\n",
    "        \n",
    "        orig_u8, adv = GeoD_attack(resnet50_Model, p, norm=np.inf)\n",
    "\n",
    "        ############################################################################################\n",
    "\n",
    "        adv = np.transpose(adv, (1, 2, 0))\n",
    "        _adv = adv\n",
    "        print(orig_u8.shape)\n",
    "        print(adv.shape)\n",
    "        if orig_u8.shape[:2] != adv.shape[:2]:\n",
    "            _adv = cv2.resize(\n",
    "                adv, (orig_u8.shape[1], orig_u8.shape[0]),\n",
    "                interpolation=cv2.INTER_LINEAR\n",
    "            )\n",
    "        adv_u8 = _to_uint8_rgb(_adv)\n",
    "        noise = adv_u8.astype(np.int16) - orig_u8.astype(np.int16)\n",
    "    \n",
    "        # Save adversarial image to output folder\n",
    "        out_path = adv_output_dir / Path(p).name\n",
    "        cv2.imwrite(str(out_path), cv2.cvtColor(adv_u8, cv2.COLOR_RGB2BGR))\n",
    "    \n",
    "        # Compute SSIM\n",
    "        ssim_kwargs = {\"data_range\": 255}\n",
    "        if \"channel_axis\" in inspect.signature(ssim).parameters:\n",
    "            ssim_kwargs[\"channel_axis\"] = -1\n",
    "        else:\n",
    "            ssim_kwargs[\"multichannel\"] = True\n",
    "    \n",
    "        #print(ssim_kwargs)\n",
    "        ssim_score = ssim(orig_u8, adv_u8, **ssim_kwargs)\n",
    "        allSSIMScores.append(ssim_score)\n",
    "        print(f\"SSIM between original and adversarial: {ssim_score:.6f}\")\n",
    "        print(f\"Saved adversarial image: {out_path}\")\n",
    "        print(\" \")\n",
    "        successfulAttacks += 1\n",
    "        \n",
    "    except Exception as e:\n",
    "        print(\"Error processing:\", p)\n",
    "        print(e)\n",
    "        continue\n",
    "\n",
    "\n",
    "print(\"\")\n",
    "print(\"Average SSIM Score:\", np.mean(allSSIMScores))\n",
    "print(\"Successful Attacks:\", successfulAttacks)"
   ]
  },
  {
   "cell_type": "markdown",
   "id": "50b45aa3-c5b0-466d-b35e-14696dd0f054",
   "metadata": {},
   "source": [
    "# GRAPHITE Whitebox"
   ]
  },
  {
   "cell_type": "code",
   "execution_count": null,
   "id": "e1ae43f9-c32b-4539-97a1-9fa24697e430",
   "metadata": {},
   "outputs": [
    {
     "name": "stdout",
     "output_type": "stream",
     "text": [
      "Found 2 images\n",
      "[MODEL] Loading 'resnet50' weights from utils/.models/resnet50.pth ...\n",
      "[MODEL] 'resnet50' ready on cuda:0\n",
      "Processing: ../to_attack/img_0337.png\n"
     ]
    }
   ],
   "source": [
    "from GRAPHITEWhitebox_attack import GRAPHITEWhitebox_attack\n",
    "\n",
    "folder = Path(\"../to_attack\")\n",
    "image_exts = {\".png\", \".jpg\", \".jpeg\", \".bmp\", \".tif\", \".tiff\", \".webp\"}\n",
    "image_paths = sorted(\n",
    "    str(p) for p in folder.iterdir()\n",
    "    if p.is_file() and p.suffix.lower() in image_exts\n",
    ")\n",
    "print(f\"Found {len(image_paths)} images\")\n",
    "\n",
    "resnet50_Model = modelLoader.loadModel(\"resnet50\", \"utils/.models/resnet50.pth\")\n",
    "# densenet121_Model = modelLoader.loadModel(\"densenet121\", \".models/densenet121.pth\")\n",
    "\n",
    "allSSIMScores = []\n",
    "successfulAttacks = 0\n",
    "\n",
    "# ==== configure output folder ====\n",
    "adv_output_dir = Path(\"../adv_images\")\n",
    "adv_output_dir.mkdir(parents=True, exist_ok=True)\n",
    "\n",
    "'''\n",
    "def _finalize(orig_uint8: np.ndarray, x_adv01: np.ndarray) -> tuple:\n",
    "    adv_uint8 = _to_uint8_rgb(x_adv01[0])  # (H_adv, W_adv, 3)\n",
    "\n",
    "    # Resize original to match adv size if needed\n",
    "    H_adv, W_adv = adv_uint8.shape[:2]\n",
    "    if orig_uint8.shape[:2] != (H_adv, W_adv):\n",
    "        import cv2\n",
    "        orig_match = cv2.resize(orig_uint8, (W_adv, H_adv), interpolation=cv2.INTER_LINEAR)\n",
    "    else:\n",
    "        orig_match = orig_uint8\n",
    "\n",
    "    noise = adv_uint8.astype(np.int16) - orig_match.astype(np.int16)\n",
    "    return orig_match, noise, adv_uint8\n",
    "'''\n",
    "\n",
    "for p in image_paths:\n",
    "    print(\"Processing:\", p)\n",
    "    try:\n",
    "        ##################################### ATTACK METHOD ########################################\n",
    "        \n",
    "        orig_u8, adv = GRAPHITEWhitebox_attack(resnet50_Model, p)\n",
    "\n",
    "        ############################################################################################\n",
    "\n",
    "        adv = np.transpose(adv, (1, 2, 0))\n",
    "        _adv = adv\n",
    "        #print(orig_u8.shape)\n",
    "        #print(adv.shape)\n",
    "        if orig_u8.shape[:2] != adv.shape[:2]:\n",
    "            _adv = cv2.resize(\n",
    "                adv, (orig_u8.shape[1], orig_u8.shape[0]),\n",
    "                interpolation=cv2.INTER_LINEAR\n",
    "            )\n",
    "        adv_u8 = _to_uint8_rgb(_adv)\n",
    "        noise = adv_u8.astype(np.int16) - orig_u8.astype(np.int16)\n",
    "    \n",
    "        # Save adversarial image to output folder\n",
    "        out_path = adv_output_dir / Path(p).name\n",
    "        cv2.imwrite(str(out_path), cv2.cvtColor(adv_u8, cv2.COLOR_RGB2BGR))\n",
    "    \n",
    "        # Compute SSIM\n",
    "        ssim_kwargs = {\"data_range\": 255}\n",
    "        if \"channel_axis\" in inspect.signature(ssim).parameters:\n",
    "            ssim_kwargs[\"channel_axis\"] = -1\n",
    "        else:\n",
    "            ssim_kwargs[\"multichannel\"] = True\n",
    "    \n",
    "        #print(ssim_kwargs)\n",
    "        ssim_score = ssim(orig_u8, adv_u8, **ssim_kwargs)\n",
    "        allSSIMScores.append(ssim_score)\n",
    "        print(f\"SSIM between original and adversarial: {ssim_score:.6f}\")\n",
    "        print(f\"Saved adversarial image: {out_path}\")\n",
    "        print(\" \")\n",
    "        successfulAttacks += 1\n",
    "        \n",
    "    except Exception as e:\n",
    "        print(\"Error processing:\", p)\n",
    "        print(e)\n",
    "        continue\n",
    "\n",
    "\n",
    "print(\"\")\n",
    "print(\"Average SSIM Score:\", np.mean(allSSIMScores))\n",
    "print(\"Successful Attacks:\", successfulAttacks)"
   ]
  },
  {
   "cell_type": "markdown",
   "id": "0b0504db-9ae2-4683-a785-0d222e1e05e8",
   "metadata": {},
   "source": [
    "# Fast Gradient Method"
   ]
  },
  {
   "cell_type": "code",
   "execution_count": 2,
   "id": "dd80a83c-267b-424e-8aba-b2eb933b0036",
   "metadata": {},
   "outputs": [
    {
     "name": "stdout",
     "output_type": "stream",
     "text": [
      "Found 2 images\n",
      "[MODEL] Loading 'resnet50' weights from utils/.models/resnet50.pth ...\n",
      "[MODEL] 'resnet50' ready on cuda:0\n",
      "Processing: ../to_attack/img_0337.png\n",
      "SSIM between original and adversarial: 0.065847\n",
      "Saved adversarial image: ../adv_images/img_0337.png\n",
      " \n",
      "Processing: ../to_attack/img_0667.png\n",
      "SSIM between original and adversarial: 0.090883\n",
      "Saved adversarial image: ../adv_images/img_0667.png\n",
      " \n",
      "\n",
      "Average SSIM Score: 0.07836504145556888\n",
      "Successful Attacks: 2\n"
     ]
    }
   ],
   "source": [
    "from FGM_attack import FGM_attack\n",
    "\n",
    "folder = Path(\"../to_attack\")\n",
    "image_exts = {\".png\", \".jpg\", \".jpeg\", \".bmp\", \".tif\", \".tiff\", \".webp\"}\n",
    "image_paths = sorted(\n",
    "    str(p) for p in folder.iterdir()\n",
    "    if p.is_file() and p.suffix.lower() in image_exts\n",
    ")\n",
    "print(f\"Found {len(image_paths)} images\")\n",
    "\n",
    "resnet50_Model = modelLoader.loadModel(\"resnet50\", \"utils/.models/resnet50.pth\")\n",
    "# densenet121_Model = modelLoader.loadModel(\"densenet121\", \".models/densenet121.pth\")\n",
    "\n",
    "allSSIMScores = []\n",
    "successfulAttacks = 0\n",
    "\n",
    "# ==== configure output folder ====\n",
    "adv_output_dir = Path(\"../adv_images\")\n",
    "adv_output_dir.mkdir(parents=True, exist_ok=True)\n",
    "\n",
    "'''\n",
    "def _finalize(orig_uint8: np.ndarray, x_adv01: np.ndarray) -> tuple:\n",
    "    adv_uint8 = _to_uint8_rgb(x_adv01[0])  # (H_adv, W_adv, 3)\n",
    "\n",
    "    # Resize original to match adv size if needed\n",
    "    H_adv, W_adv = adv_uint8.shape[:2]\n",
    "    if orig_uint8.shape[:2] != (H_adv, W_adv):\n",
    "        import cv2\n",
    "        orig_match = cv2.resize(orig_uint8, (W_adv, H_adv), interpolation=cv2.INTER_LINEAR)\n",
    "    else:\n",
    "        orig_match = orig_uint8\n",
    "\n",
    "    noise = adv_uint8.astype(np.int16) - orig_match.astype(np.int16)\n",
    "    return orig_match, noise, adv_uint8\n",
    "'''\n",
    "\n",
    "for p in image_paths:\n",
    "    print(\"Processing:\", p)\n",
    "    try:\n",
    "        ##################################### ATTACK METHOD ########################################\n",
    "        \n",
    "        orig_u8, adv = FGM_attack(resnet50_Model, p, norm=np.inf)\n",
    "\n",
    "        ############################################################################################\n",
    "\n",
    "        adv = np.transpose(adv, (1, 2, 0))\n",
    "        _adv = adv\n",
    "        #print(orig_u8.shape)\n",
    "        #print(adv.shape)\n",
    "        if orig_u8.shape[:2] != adv.shape[:2]:\n",
    "            _adv = cv2.resize(\n",
    "                adv, (orig_u8.shape[1], orig_u8.shape[0]),\n",
    "                interpolation=cv2.INTER_LINEAR\n",
    "            )\n",
    "        adv_u8 = _to_uint8_rgb(_adv)\n",
    "        noise = adv_u8.astype(np.int16) - orig_u8.astype(np.int16)\n",
    "    \n",
    "        # Save adversarial image to output folder\n",
    "        out_path = adv_output_dir / Path(p).name\n",
    "        cv2.imwrite(str(out_path), cv2.cvtColor(adv_u8, cv2.COLOR_RGB2BGR))\n",
    "    \n",
    "        # Compute SSIM\n",
    "        ssim_kwargs = {\"data_range\": 255}\n",
    "        if \"channel_axis\" in inspect.signature(ssim).parameters:\n",
    "            ssim_kwargs[\"channel_axis\"] = -1\n",
    "        else:\n",
    "            ssim_kwargs[\"multichannel\"] = True\n",
    "    \n",
    "        #print(ssim_kwargs)\n",
    "        ssim_score = ssim(orig_u8, adv_u8, **ssim_kwargs)\n",
    "        allSSIMScores.append(ssim_score)\n",
    "        print(f\"SSIM between original and adversarial: {ssim_score:.6f}\")\n",
    "        print(f\"Saved adversarial image: {out_path}\")\n",
    "        print(\" \")\n",
    "        successfulAttacks += 1\n",
    "        \n",
    "    except Exception as e:\n",
    "        print(\"Error processing:\", p)\n",
    "        print(e)\n",
    "        continue\n",
    "\n",
    "\n",
    "print(\"\")\n",
    "print(\"Average SSIM Score:\", np.mean(allSSIMScores))\n",
    "print(\"Successful Attacks:\", successfulAttacks)"
   ]
  },
  {
   "cell_type": "code",
   "execution_count": null,
   "id": "515a0e10-060f-42e1-bceb-36e3b91ed392",
   "metadata": {},
   "outputs": [],
   "source": []
  },
  {
   "cell_type": "code",
   "execution_count": null,
   "id": "ce664b1f-2080-44c1-8b14-dc3654f04f18",
   "metadata": {},
   "outputs": [],
   "source": []
  },
  {
   "cell_type": "markdown",
   "id": "61573093-c2ea-4ce7-9824-201ba035d949",
   "metadata": {},
   "source": [
    "**==================================== EXAMPLE FROM THE ART GIT REPO ============================================**"
   ]
  },
  {
   "cell_type": "code",
   "execution_count": 2,
   "id": "d12a8a15-3adf-4898-8967-b2132687da67",
   "metadata": {},
   "outputs": [
    {
     "name": "stdout",
     "output_type": "stream",
     "text": [
      "Found 2 images\n",
      "[MODEL] Loading 'resnet50' weights from utils/.models/resnet50.pth ...\n",
      "[MODEL] 'resnet50' ready on cuda:0\n",
      "Processing: ../to_attack/img_0337.png\n"
     ]
    },
    {
     "data": {
      "application/vnd.jupyter.widget-view+json": {
       "model_id": "0738f491a05043c892a6a48b6519b3e3",
       "version_major": 2,
       "version_minor": 0
      },
      "text/plain": [
       "C&W L_inf:   0%|          | 0/1 [00:00<?, ?it/s]"
      ]
     },
     "metadata": {},
     "output_type": "display_data"
    },
    {
     "name": "stdout",
     "output_type": "stream",
     "text": [
      "SSIM between original and adversarial: 0.992852\n",
      "Saved adversarial image: ../adv_images/img_0337.png\n",
      " \n",
      "Processing: ../to_attack/img_0667.png\n"
     ]
    },
    {
     "data": {
      "application/vnd.jupyter.widget-view+json": {
       "model_id": "2855a2ff3eee4ca4804008b0d54c2f35",
       "version_major": 2,
       "version_minor": 0
      },
      "text/plain": [
       "C&W L_inf:   0%|          | 0/1 [00:00<?, ?it/s]"
      ]
     },
     "metadata": {},
     "output_type": "display_data"
    },
    {
     "name": "stdout",
     "output_type": "stream",
     "text": [
      "SSIM between original and adversarial: 0.997221\n",
      "Saved adversarial image: ../adv_images/img_0667.png\n",
      " \n",
      "\n",
      "Average SSIM Score: 0.9950366083050868\n",
      "Successful Attacks: 2\n"
     ]
    }
   ],
   "source": []
  },
  {
   "cell_type": "code",
   "execution_count": 3,
   "id": "fb4d0699-c5c7-4789-a733-731d943d0094",
   "metadata": {},
   "outputs": [],
   "source": [
    "\"\"\"\n",
    "The script demonstrates a simple example of using ART with PyTorch. The example train a small model on the MNIST dataset\n",
    "and creates adversarial examples using the Fast Gradient Sign Method. Here we use the ART classifier to train the model,\n",
    "it would also be possible to provide a pretrained model to the ART classifier.\n",
    "The parameters are chosen for reduced computational requirements of the script and not optimised for accuracy.\n",
    "\"\"\"\n",
    "\n",
    "import torch.nn as nn\n",
    "import torch.nn.functional as F\n",
    "import torch.optim as optim\n",
    "import numpy as np\n",
    "\n",
    "from art.attacks.evasion import FastGradientMethod\n",
    "from art.estimators.classification import PyTorchClassifier\n",
    "from art.utils import load_mnist"
   ]
  },
  {
   "cell_type": "code",
   "execution_count": 4,
   "id": "734b7572-e273-4128-ae2a-5840154a8804",
   "metadata": {},
   "outputs": [
    {
     "name": "stdout",
     "output_type": "stream",
     "text": [
      "(60000, 1, 28, 28)\n",
      "(10000, 1, 28, 28)\n"
     ]
    }
   ],
   "source": [
    "# Step 0: Define the neural network model, return logits instead of activation in forward method\n",
    "\n",
    "class Net(nn.Module):\n",
    "    def __init__(self):\n",
    "        super(Net, self).__init__()\n",
    "        self.conv_1 = nn.Conv2d(in_channels=1, out_channels=4, kernel_size=5, stride=1)\n",
    "        self.conv_2 = nn.Conv2d(in_channels=4, out_channels=10, kernel_size=5, stride=1)\n",
    "        self.fc_1 = nn.Linear(in_features=4 * 4 * 10, out_features=100)\n",
    "        self.fc_2 = nn.Linear(in_features=100, out_features=10)\n",
    "\n",
    "    def forward(self, x):\n",
    "        x = F.relu(self.conv_1(x))\n",
    "        x = F.max_pool2d(x, 2, 2)\n",
    "        x = F.relu(self.conv_2(x))\n",
    "        x = F.max_pool2d(x, 2, 2)\n",
    "        x = x.view(-1, 4 * 4 * 10)\n",
    "        x = F.relu(self.fc_1(x))\n",
    "        x = self.fc_2(x)\n",
    "        return x\n",
    "\n",
    "\n",
    "# Step 1: Load the MNIST dataset\n",
    "\n",
    "(x_train, y_train), (x_test, y_test), min_pixel_value, max_pixel_value = load_mnist()\n",
    "\n",
    "# Step 1a: Swap axes to PyTorch's NCHW format\n",
    "\n",
    "x_train = np.transpose(x_train, (0, 3, 1, 2)).astype(np.float32)\n",
    "x_test = np.transpose(x_test, (0, 3, 1, 2)).astype(np.float32)\n",
    "print(x_train.shape)\n",
    "print(x_test.shape)"
   ]
  },
  {
   "cell_type": "code",
   "execution_count": 6,
   "id": "6e50e0c0-f7a1-4946-81df-59a1ee20776a",
   "metadata": {},
   "outputs": [
    {
     "name": "stdout",
     "output_type": "stream",
     "text": [
      "Accuracy on benign test examples: 97.11%\n",
      "Accuracy on adversarial test examples: 35.589999999999996%\n"
     ]
    }
   ],
   "source": [
    "# Step 2: Create the model\n",
    "\n",
    "model = Net()\n",
    "\n",
    "# Step 2a: Define the loss function and the optimizer\n",
    "\n",
    "criterion = nn.CrossEntropyLoss()\n",
    "optimizer = optim.Adam(model.parameters(), lr=0.01)\n",
    "\n",
    "# Step 3: Create the ART classifier\n",
    "\n",
    "classifier = PyTorchClassifier(\n",
    "    model=model,\n",
    "    clip_values=(min_pixel_value, max_pixel_value),\n",
    "    loss=criterion,\n",
    "    optimizer=optimizer,\n",
    "    input_shape=(1, 28, 28),\n",
    "    nb_classes=10,\n",
    ")\n",
    "\n",
    "# Step 4: Train the ART classifier\n",
    "\n",
    "classifier.fit(x_train, y_train, batch_size=64, nb_epochs=3)\n",
    "\n",
    "# Step 5: Evaluate the ART classifier on benign test examples\n",
    "\n",
    "predictions = classifier.predict(x_test)\n",
    "accuracy = np.sum(np.argmax(predictions, axis=1) == np.argmax(y_test, axis=1)) / len(y_test)\n",
    "print(\"Accuracy on benign test examples: {}%\".format(accuracy * 100))\n",
    "\n",
    "# Step 6: Generate adversarial test examples\n",
    "attack = FastGradientMethod(classifier, eps=0.2)\n",
    "x_test_adv = attack.generate(x=x_test)\n",
    "\n",
    "# Step 7: Evaluate the ART classifier on adversarial test examples\n",
    "\n",
    "predictions = classifier.predict(x_test_adv)\n",
    "accuracy = np.sum(np.argmax(predictions, axis=1) == np.argmax(y_test, axis=1)) / len(y_test)\n",
    "print(\"Accuracy on adversarial test examples: {}%\".format(accuracy * 100))"
   ]
  },
  {
   "cell_type": "code",
   "execution_count": null,
   "id": "457417fb-4d97-4735-a6f5-a8ec472a4dbd",
   "metadata": {},
   "outputs": [],
   "source": []
  }
 ],
 "metadata": {
  "kernelspec": {
   "display_name": "Python 3 (ipykernel)",
   "language": "python",
   "name": "python3"
  },
  "language_info": {
   "codemirror_mode": {
    "name": "ipython",
    "version": 3
   },
   "file_extension": ".py",
   "mimetype": "text/x-python",
   "name": "python",
   "nbconvert_exporter": "python",
   "pygments_lexer": "ipython3",
   "version": "3.11.13"
  }
 },
 "nbformat": 4,
 "nbformat_minor": 5
}
