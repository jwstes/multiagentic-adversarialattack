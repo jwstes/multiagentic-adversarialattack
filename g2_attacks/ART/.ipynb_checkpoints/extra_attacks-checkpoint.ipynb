{
 "cells": [
  {
   "cell_type": "markdown",
   "id": "c78b35d1-ed74-44e0-bca4-f8ff62d9a050",
   "metadata": {},
   "source": [
    "**Shift notebook and other files one directory up for use**"
   ]
  },
  {
   "cell_type": "code",
   "execution_count": 1,
   "id": "0aa8bad7-0674-400f-8a2f-bf7027c4034e",
   "metadata": {},
   "outputs": [],
   "source": [
    "import cv2\n",
    "import numpy as np\n",
    "from PIL import Image\n",
    "import os\n",
    "import inspect\n",
    "from skimage.metrics import structural_similarity as ssim\n",
    "from pathlib import Path\n",
    "from utils._common import _to_uint8_rgb\n",
    "from utils import modelLoader"
   ]
  },
  {
   "cell_type": "markdown",
   "id": "dcb0b579-5063-4bca-98e9-ff54711af269",
   "metadata": {},
   "source": [
    "# Carlini and Wagner $L_\\infty$ Attack"
   ]
  },
  {
   "cell_type": "code",
   "execution_count": 2,
   "id": "b42d8971-747d-4615-b055-9243f7bfb4fc",
   "metadata": {},
   "outputs": [
    {
     "name": "stdout",
     "output_type": "stream",
     "text": [
      "Found 2 images\n",
      "[MODEL] Loading 'resnet50' weights from utils/.models/resnet50.pth ...\n",
      "[MODEL] 'resnet50' ready on cuda:0\n",
      "Processing: ../to_attack/img_0337.png\n"
     ]
    },
    {
     "data": {
      "application/vnd.jupyter.widget-view+json": {
       "model_id": "31aa714cd8e348eeb38e1d80d9368121",
       "version_major": 2,
       "version_minor": 0
      },
      "text/plain": [
       "C&W L_inf:   0%|          | 0/1 [00:00<?, ?it/s]"
      ]
     },
     "metadata": {},
     "output_type": "display_data"
    },
    {
     "name": "stdout",
     "output_type": "stream",
     "text": [
      "SSIM between original and adversarial: 0.992852\n",
      "Saved adversarial image: ../adv_images/img_0337.png\n",
      " \n",
      "Processing: ../to_attack/img_0667.png\n"
     ]
    },
    {
     "data": {
      "application/vnd.jupyter.widget-view+json": {
       "model_id": "d8a5b64f56584f69824c989157b95b7d",
       "version_major": 2,
       "version_minor": 0
      },
      "text/plain": [
       "C&W L_inf:   0%|          | 0/1 [00:00<?, ?it/s]"
      ]
     },
     "metadata": {},
     "output_type": "display_data"
    },
    {
     "name": "stdout",
     "output_type": "stream",
     "text": [
      "SSIM between original and adversarial: 0.997221\n",
      "Saved adversarial image: ../adv_images/img_0667.png\n",
      " \n",
      "\n",
      "Average SSIM Score: 0.9950366083050868\n",
      "Successful Attacks: 2\n"
     ]
    }
   ],
   "source": [
    "from carlini_linf_attack import carlini_linf_attack\n",
    "\n",
    "folder = Path(\"../to_attack\")\n",
    "image_exts = {\".png\", \".jpg\", \".jpeg\", \".bmp\", \".tif\", \".tiff\", \".webp\"}\n",
    "image_paths = sorted(\n",
    "    str(p) for p in folder.iterdir()\n",
    "    if p.is_file() and p.suffix.lower() in image_exts\n",
    ")\n",
    "print(f\"Found {len(image_paths)} images\")\n",
    "\n",
    "resnet50_Model = modelLoader.loadModel(\"resnet50\", \"utils/.models/resnet50.pth\")\n",
    "# densenet121_Model = modelLoader.loadModel(\"densenet121\", \".models/densenet121.pth\")\n",
    "\n",
    "allSSIMScores = []\n",
    "successfulAttacks = 0\n",
    "\n",
    "# ==== configure output folder ====\n",
    "adv_output_dir = Path(\"../adv_images\")\n",
    "adv_output_dir.mkdir(parents=True, exist_ok=True)\n",
    "\n",
    "'''\n",
    "def _finalize(orig_uint8: np.ndarray, x_adv01: np.ndarray) -> tuple:\n",
    "    adv_uint8 = _to_uint8_rgb(x_adv01[0])  # (H_adv, W_adv, 3)\n",
    "\n",
    "    # Resize original to match adv size if needed\n",
    "    H_adv, W_adv = adv_uint8.shape[:2]\n",
    "    if orig_uint8.shape[:2] != (H_adv, W_adv):\n",
    "        import cv2\n",
    "        orig_match = cv2.resize(orig_uint8, (W_adv, H_adv), interpolation=cv2.INTER_LINEAR)\n",
    "    else:\n",
    "        orig_match = orig_uint8\n",
    "\n",
    "    noise = adv_uint8.astype(np.int16) - orig_match.astype(np.int16)\n",
    "    return orig_match, noise, adv_uint8\n",
    "'''\n",
    "\n",
    "for p in image_paths:\n",
    "    print(\"Processing:\", p)\n",
    "    try:\n",
    "        ##################################### ATTACK METHOD ########################################\n",
    "        \n",
    "        orig_u8, adv = carlini_linf_attack(resnet50_Model, p)\n",
    "\n",
    "        ############################################################################################\n",
    "\n",
    "        adv = np.transpose(adv, (1, 2, 0))\n",
    "        _adv = adv\n",
    "        #print(orig_u8.shape)\n",
    "        #print(adv.shape)\n",
    "        if orig_u8.shape[:2] != adv.shape[:2]:\n",
    "            _adv = cv2.resize(\n",
    "                adv, (orig_u8.shape[1], orig_u8.shape[0]),\n",
    "                interpolation=cv2.INTER_LINEAR\n",
    "            )\n",
    "        adv_u8 = _to_uint8_rgb(_adv)\n",
    "        noise = adv_u8.astype(np.int16) - orig_u8.astype(np.int16)\n",
    "    \n",
    "        # Save adversarial image to output folder\n",
    "        out_path = adv_output_dir / Path(p).name\n",
    "        cv2.imwrite(str(out_path), cv2.cvtColor(adv_u8, cv2.COLOR_RGB2BGR))\n",
    "    \n",
    "        # Compute SSIM\n",
    "        ssim_kwargs = {\"data_range\": 255}\n",
    "        if \"channel_axis\" in inspect.signature(ssim).parameters:\n",
    "            ssim_kwargs[\"channel_axis\"] = -1\n",
    "        else:\n",
    "            ssim_kwargs[\"multichannel\"] = True\n",
    "    \n",
    "        #print(ssim_kwargs)\n",
    "        ssim_score = ssim(orig_u8, adv_u8, **ssim_kwargs)\n",
    "        allSSIMScores.append(ssim_score)\n",
    "        print(f\"SSIM between original and adversarial: {ssim_score:.6f}\")\n",
    "        print(f\"Saved adversarial image: {out_path}\")\n",
    "        print(\" \")\n",
    "        successfulAttacks += 1\n",
    "        \n",
    "    except Exception as e:\n",
    "        print(\"Error processing:\", p)\n",
    "        print(e)\n",
    "        continue\n",
    "\n",
    "\n",
    "print(\"\")\n",
    "print(\"Average SSIM Score:\", np.mean(allSSIMScores))\n",
    "print(\"Successful Attacks:\", successfulAttacks)"
   ]
  }
 ],
 "metadata": {
  "kernelspec": {
   "display_name": "art-env [~/.conda/envs/art-env/]",
   "language": "python",
   "name": "conda_art-env"
  },
  "language_info": {
   "codemirror_mode": {
    "name": "ipython",
    "version": 3
   },
   "file_extension": ".py",
   "mimetype": "text/x-python",
   "name": "python",
   "nbconvert_exporter": "python",
   "pygments_lexer": "ipython3",
   "version": "3.11.13"
  }
 },
 "nbformat": 4,
 "nbformat_minor": 5
}
